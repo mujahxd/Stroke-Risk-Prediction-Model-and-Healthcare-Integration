{
 "cells": [
  {
   "cell_type": "markdown",
   "metadata": {},
   "source": [
    "# i. Perkenalan"
   ]
  },
  {
   "cell_type": "markdown",
   "metadata": {},
   "source": [
    "Nama: Mujahid  \n",
    "Bath: RMT-022  \n",
    "\n",
    "**Latar Belakang Masalah**: Menurut World Health Organization (WHO), stroke merupakan penyebab kematian terbesar kedua di seluruh dunia, bertanggung jawab atas sekitar 11% dari total kematian. Stroke adalah kondisi serius yang dapat mengakibatkan dampak jangka panjang yang signifikan pada kualitas hidup individu. Oleh karena itu, penting untuk dapat memprediksi potensi risiko stroke secara dini. Prediksi risiko stroke menjadi krusial dalam upaya pencegahan dan penanganan lebih lanjut untuk mengurangi dampak buruk dari penyakit ini. Dalam konteks ini, pengembangan metode atau alat prediksi risiko stroke menjadi perhatian penting dalam dunia kesehatan global.  \n",
    "\n",
    "**Objektif**: Membangun model klasifikasi untuk meramalkan risiko stroke berdasarkan faktor-faktor risiko serta mengintegrasikan model ini dalam pengelolaan kesehatan untuk identifikasi dini risiko stroke. "
   ]
  },
  {
   "cell_type": "markdown",
   "metadata": {},
   "source": [
    "## Conceptual Problems\n",
    "\n",
    "1. Jelaskan latar belakang adanya bagging dan cara kerja bagging !\n",
    "\n",
    "Latar belakang adanya bagging adalah untuk meningkatkan akurasi prediksi model dengan menggabungkan beberapa model (misalnya, Decision Trees) yang dilatih pada dataset yang sama, tetapi dengan subset data yang berbeda, kemudian mengambil hasil rata-rata atau mayoritas dari prediksi mereka.\n",
    "Cara kerja bagging adalah dengan mengumpulkan banyak \"pendapat\" dari model-model yang berbeda, yang secara kolektif cenderung menghasilkan hasil yang lebih akurat daripada hanya mengandalkan satu model tunggal.\n",
    "\n",
    "2. Jelaskan perbedaan cara kerja algoritma Random Forest dengan algoritma boosting yang Anda pilih !\n",
    "\n",
    "Random Forest bekerja dengan menggabungkan sejumlah besar pohon keputusan independen, sementara XGBoost fokus pada pengembangan pohon keputusan secara berurutan dengan menekankan perbaikan pada prediksi yang salah sebelumnya\n",
    "\n",
    "3. Jelaskan apa yang dimaksud dengan Cross Validation ! \n",
    "\n",
    "Cross Validation adalah teknik yang digunakan untuk mengukur kinerja model machine learning dengan membagi data menjadi beberapa subset, melatih model pada beberapa subset tersebut, dan menguji model pada subset yang lain untuk memastikan generalisasi yang lebih baik."
   ]
  },
  {
   "cell_type": "markdown",
   "metadata": {},
   "source": [
    "# ii. Import Libraries"
   ]
  },
  {
   "cell_type": "code",
   "execution_count": 1,
   "metadata": {},
   "outputs": [],
   "source": [
    "import json\n",
    "import joblib\n",
    "import pandas as pd\n",
    "import xgboost as xgb\n",
    "\n",
    "import seaborn as sns\n",
    "import matplotlib.pyplot as plt\n",
    "\n",
    "from scipy.stats import skew, f_oneway, chi2_contingency\n",
    "\n",
    "from sklearn.preprocessing import OneHotEncoder, MinMaxScaler\n",
    "\n",
    "from sklearn.pipeline import Pipeline\n",
    "from sklearn.model_selection import GridSearchCV\n",
    "\n",
    "from sklearn.svm import SVC\n",
    "from sklearn.tree import DecisionTreeClassifier\n",
    "from sklearn.neighbors import KNeighborsClassifier\n",
    "from sklearn.ensemble import RandomForestClassifier\n",
    "\n",
    "from sklearn.model_selection import cross_val_score, train_test_split\n",
    "\n",
    "from sklearn.metrics import recall_score\n",
    "from sklearn.metrics import accuracy_score, precision_score, recall_score, f1_score\n"
   ]
  },
  {
   "cell_type": "markdown",
   "metadata": {},
   "source": [
    "# iii. Data Loading"
   ]
  },
  {
   "cell_type": "code",
   "execution_count": 2,
   "metadata": {},
   "outputs": [],
   "source": [
    "# baca data csv\n",
    "filename = 'healthcare-dataset-stroke-data.csv'\n",
    "df = pd.read_csv(filename)"
   ]
  },
  {
   "cell_type": "code",
   "execution_count": 3,
   "metadata": {},
   "outputs": [
    {
     "data": {
      "text/html": [
       "<div>\n",
       "<style scoped>\n",
       "    .dataframe tbody tr th:only-of-type {\n",
       "        vertical-align: middle;\n",
       "    }\n",
       "\n",
       "    .dataframe tbody tr th {\n",
       "        vertical-align: top;\n",
       "    }\n",
       "\n",
       "    .dataframe thead th {\n",
       "        text-align: right;\n",
       "    }\n",
       "</style>\n",
       "<table border=\"1\" class=\"dataframe\">\n",
       "  <thead>\n",
       "    <tr style=\"text-align: right;\">\n",
       "      <th></th>\n",
       "      <th>id</th>\n",
       "      <th>gender</th>\n",
       "      <th>age</th>\n",
       "      <th>hypertension</th>\n",
       "      <th>heart_disease</th>\n",
       "      <th>ever_married</th>\n",
       "      <th>work_type</th>\n",
       "      <th>Residence_type</th>\n",
       "      <th>avg_glucose_level</th>\n",
       "      <th>bmi</th>\n",
       "      <th>smoking_status</th>\n",
       "      <th>stroke</th>\n",
       "    </tr>\n",
       "  </thead>\n",
       "  <tbody>\n",
       "    <tr>\n",
       "      <th>0</th>\n",
       "      <td>9046</td>\n",
       "      <td>Male</td>\n",
       "      <td>67.0</td>\n",
       "      <td>0</td>\n",
       "      <td>1</td>\n",
       "      <td>Yes</td>\n",
       "      <td>Private</td>\n",
       "      <td>Urban</td>\n",
       "      <td>228.69</td>\n",
       "      <td>36.6</td>\n",
       "      <td>formerly smoked</td>\n",
       "      <td>1</td>\n",
       "    </tr>\n",
       "    <tr>\n",
       "      <th>1</th>\n",
       "      <td>51676</td>\n",
       "      <td>Female</td>\n",
       "      <td>61.0</td>\n",
       "      <td>0</td>\n",
       "      <td>0</td>\n",
       "      <td>Yes</td>\n",
       "      <td>Self-employed</td>\n",
       "      <td>Rural</td>\n",
       "      <td>202.21</td>\n",
       "      <td>NaN</td>\n",
       "      <td>never smoked</td>\n",
       "      <td>1</td>\n",
       "    </tr>\n",
       "    <tr>\n",
       "      <th>2</th>\n",
       "      <td>31112</td>\n",
       "      <td>Male</td>\n",
       "      <td>80.0</td>\n",
       "      <td>0</td>\n",
       "      <td>1</td>\n",
       "      <td>Yes</td>\n",
       "      <td>Private</td>\n",
       "      <td>Rural</td>\n",
       "      <td>105.92</td>\n",
       "      <td>32.5</td>\n",
       "      <td>never smoked</td>\n",
       "      <td>1</td>\n",
       "    </tr>\n",
       "    <tr>\n",
       "      <th>3</th>\n",
       "      <td>60182</td>\n",
       "      <td>Female</td>\n",
       "      <td>49.0</td>\n",
       "      <td>0</td>\n",
       "      <td>0</td>\n",
       "      <td>Yes</td>\n",
       "      <td>Private</td>\n",
       "      <td>Urban</td>\n",
       "      <td>171.23</td>\n",
       "      <td>34.4</td>\n",
       "      <td>smokes</td>\n",
       "      <td>1</td>\n",
       "    </tr>\n",
       "    <tr>\n",
       "      <th>4</th>\n",
       "      <td>1665</td>\n",
       "      <td>Female</td>\n",
       "      <td>79.0</td>\n",
       "      <td>1</td>\n",
       "      <td>0</td>\n",
       "      <td>Yes</td>\n",
       "      <td>Self-employed</td>\n",
       "      <td>Rural</td>\n",
       "      <td>174.12</td>\n",
       "      <td>24.0</td>\n",
       "      <td>never smoked</td>\n",
       "      <td>1</td>\n",
       "    </tr>\n",
       "  </tbody>\n",
       "</table>\n",
       "</div>"
      ],
      "text/plain": [
       "      id  gender   age  hypertension  heart_disease ever_married  \\\n",
       "0   9046    Male  67.0             0              1          Yes   \n",
       "1  51676  Female  61.0             0              0          Yes   \n",
       "2  31112    Male  80.0             0              1          Yes   \n",
       "3  60182  Female  49.0             0              0          Yes   \n",
       "4   1665  Female  79.0             1              0          Yes   \n",
       "\n",
       "       work_type Residence_type  avg_glucose_level   bmi   smoking_status  \\\n",
       "0        Private          Urban             228.69  36.6  formerly smoked   \n",
       "1  Self-employed          Rural             202.21   NaN     never smoked   \n",
       "2        Private          Rural             105.92  32.5     never smoked   \n",
       "3        Private          Urban             171.23  34.4           smokes   \n",
       "4  Self-employed          Rural             174.12  24.0     never smoked   \n",
       "\n",
       "   stroke  \n",
       "0       1  \n",
       "1       1  \n",
       "2       1  \n",
       "3       1  \n",
       "4       1  "
      ]
     },
     "execution_count": 3,
     "metadata": {},
     "output_type": "execute_result"
    }
   ],
   "source": [
    "# tampilkan data 5 teratas\n",
    "df.head()"
   ]
  },
  {
   "cell_type": "code",
   "execution_count": 4,
   "metadata": {},
   "outputs": [
    {
     "data": {
      "text/html": [
       "<div>\n",
       "<style scoped>\n",
       "    .dataframe tbody tr th:only-of-type {\n",
       "        vertical-align: middle;\n",
       "    }\n",
       "\n",
       "    .dataframe tbody tr th {\n",
       "        vertical-align: top;\n",
       "    }\n",
       "\n",
       "    .dataframe thead th {\n",
       "        text-align: right;\n",
       "    }\n",
       "</style>\n",
       "<table border=\"1\" class=\"dataframe\">\n",
       "  <thead>\n",
       "    <tr style=\"text-align: right;\">\n",
       "      <th></th>\n",
       "      <th>id</th>\n",
       "      <th>gender</th>\n",
       "      <th>age</th>\n",
       "      <th>hypertension</th>\n",
       "      <th>heart_disease</th>\n",
       "      <th>ever_married</th>\n",
       "      <th>work_type</th>\n",
       "      <th>Residence_type</th>\n",
       "      <th>avg_glucose_level</th>\n",
       "      <th>bmi</th>\n",
       "      <th>smoking_status</th>\n",
       "      <th>stroke</th>\n",
       "    </tr>\n",
       "  </thead>\n",
       "  <tbody>\n",
       "    <tr>\n",
       "      <th>5105</th>\n",
       "      <td>18234</td>\n",
       "      <td>Female</td>\n",
       "      <td>80.0</td>\n",
       "      <td>1</td>\n",
       "      <td>0</td>\n",
       "      <td>Yes</td>\n",
       "      <td>Private</td>\n",
       "      <td>Urban</td>\n",
       "      <td>83.75</td>\n",
       "      <td>NaN</td>\n",
       "      <td>never smoked</td>\n",
       "      <td>0</td>\n",
       "    </tr>\n",
       "    <tr>\n",
       "      <th>5106</th>\n",
       "      <td>44873</td>\n",
       "      <td>Female</td>\n",
       "      <td>81.0</td>\n",
       "      <td>0</td>\n",
       "      <td>0</td>\n",
       "      <td>Yes</td>\n",
       "      <td>Self-employed</td>\n",
       "      <td>Urban</td>\n",
       "      <td>125.20</td>\n",
       "      <td>40.0</td>\n",
       "      <td>never smoked</td>\n",
       "      <td>0</td>\n",
       "    </tr>\n",
       "    <tr>\n",
       "      <th>5107</th>\n",
       "      <td>19723</td>\n",
       "      <td>Female</td>\n",
       "      <td>35.0</td>\n",
       "      <td>0</td>\n",
       "      <td>0</td>\n",
       "      <td>Yes</td>\n",
       "      <td>Self-employed</td>\n",
       "      <td>Rural</td>\n",
       "      <td>82.99</td>\n",
       "      <td>30.6</td>\n",
       "      <td>never smoked</td>\n",
       "      <td>0</td>\n",
       "    </tr>\n",
       "    <tr>\n",
       "      <th>5108</th>\n",
       "      <td>37544</td>\n",
       "      <td>Male</td>\n",
       "      <td>51.0</td>\n",
       "      <td>0</td>\n",
       "      <td>0</td>\n",
       "      <td>Yes</td>\n",
       "      <td>Private</td>\n",
       "      <td>Rural</td>\n",
       "      <td>166.29</td>\n",
       "      <td>25.6</td>\n",
       "      <td>formerly smoked</td>\n",
       "      <td>0</td>\n",
       "    </tr>\n",
       "    <tr>\n",
       "      <th>5109</th>\n",
       "      <td>44679</td>\n",
       "      <td>Female</td>\n",
       "      <td>44.0</td>\n",
       "      <td>0</td>\n",
       "      <td>0</td>\n",
       "      <td>Yes</td>\n",
       "      <td>Govt_job</td>\n",
       "      <td>Urban</td>\n",
       "      <td>85.28</td>\n",
       "      <td>26.2</td>\n",
       "      <td>Unknown</td>\n",
       "      <td>0</td>\n",
       "    </tr>\n",
       "  </tbody>\n",
       "</table>\n",
       "</div>"
      ],
      "text/plain": [
       "         id  gender   age  hypertension  heart_disease ever_married  \\\n",
       "5105  18234  Female  80.0             1              0          Yes   \n",
       "5106  44873  Female  81.0             0              0          Yes   \n",
       "5107  19723  Female  35.0             0              0          Yes   \n",
       "5108  37544    Male  51.0             0              0          Yes   \n",
       "5109  44679  Female  44.0             0              0          Yes   \n",
       "\n",
       "          work_type Residence_type  avg_glucose_level   bmi   smoking_status  \\\n",
       "5105        Private          Urban              83.75   NaN     never smoked   \n",
       "5106  Self-employed          Urban             125.20  40.0     never smoked   \n",
       "5107  Self-employed          Rural              82.99  30.6     never smoked   \n",
       "5108        Private          Rural             166.29  25.6  formerly smoked   \n",
       "5109       Govt_job          Urban              85.28  26.2          Unknown   \n",
       "\n",
       "      stroke  \n",
       "5105       0  \n",
       "5106       0  \n",
       "5107       0  \n",
       "5108       0  \n",
       "5109       0  "
      ]
     },
     "execution_count": 4,
     "metadata": {},
     "output_type": "execute_result"
    }
   ],
   "source": [
    "# tampilkan 5 data terbawah\n",
    "df.tail()"
   ]
  },
  {
   "cell_type": "code",
   "execution_count": 5,
   "metadata": {},
   "outputs": [
    {
     "name": "stdout",
     "output_type": "stream",
     "text": [
      "<class 'pandas.core.frame.DataFrame'>\n",
      "RangeIndex: 5110 entries, 0 to 5109\n",
      "Data columns (total 12 columns):\n",
      " #   Column             Non-Null Count  Dtype  \n",
      "---  ------             --------------  -----  \n",
      " 0   id                 5110 non-null   int64  \n",
      " 1   gender             5110 non-null   object \n",
      " 2   age                5110 non-null   float64\n",
      " 3   hypertension       5110 non-null   int64  \n",
      " 4   heart_disease      5110 non-null   int64  \n",
      " 5   ever_married       5110 non-null   object \n",
      " 6   work_type          5110 non-null   object \n",
      " 7   Residence_type     5110 non-null   object \n",
      " 8   avg_glucose_level  5110 non-null   float64\n",
      " 9   bmi                4909 non-null   float64\n",
      " 10  smoking_status     5110 non-null   object \n",
      " 11  stroke             5110 non-null   int64  \n",
      "dtypes: float64(3), int64(4), object(5)\n",
      "memory usage: 479.2+ KB\n"
     ]
    }
   ],
   "source": [
    "# cek ringkasan umum data\n",
    "df.info()"
   ]
  },
  {
   "cell_type": "code",
   "execution_count": 6,
   "metadata": {},
   "outputs": [
    {
     "data": {
      "text/plain": [
       "(5110, 12)"
      ]
     },
     "execution_count": 6,
     "metadata": {},
     "output_type": "execute_result"
    }
   ],
   "source": [
    "# cek ukuran baris dan kolom data\n",
    "df.shape"
   ]
  },
  {
   "cell_type": "code",
   "execution_count": 7,
   "metadata": {},
   "outputs": [
    {
     "data": {
      "text/plain": [
       "Index(['id', 'gender', 'age', 'hypertension', 'heart_disease', 'ever_married',\n",
       "       'work_type', 'Residence_type', 'avg_glucose_level', 'bmi',\n",
       "       'smoking_status', 'stroke'],\n",
       "      dtype='object')"
      ]
     },
     "execution_count": 7,
     "metadata": {},
     "output_type": "execute_result"
    }
   ],
   "source": [
    "# cek nama-nama kolom\n",
    "df.columns"
   ]
  },
  {
   "cell_type": "markdown",
   "metadata": {},
   "source": [
    "# iv. Exploratory Data Analysis (EDA)"
   ]
  },
  {
   "cell_type": "code",
   "execution_count": 8,
   "metadata": {},
   "outputs": [
    {
     "data": {
      "text/plain": [
       "0"
      ]
     },
     "execution_count": 8,
     "metadata": {},
     "output_type": "execute_result"
    }
   ],
   "source": [
    "# cek data duplikat\n",
    "df.duplicated().sum()"
   ]
  },
  {
   "cell_type": "code",
   "execution_count": 9,
   "metadata": {},
   "outputs": [],
   "source": [
    "# Menghitung persentase nilai yang hilang dalam suatu dataset.\n",
    "missing_values = df.isnull().sum()\n",
    "total_values = len(df)\n",
    "\n",
    "percentage_missing = (missing_values / total_values) * 100"
   ]
  },
  {
   "cell_type": "code",
   "execution_count": 10,
   "metadata": {},
   "outputs": [
    {
     "data": {
      "image/png": "[encoded data removed]",
      "text/plain": [
       "<Figure size 1000x600 with 1 Axes>"
      ]
     },
     "metadata": {},
     "output_type": "display_data"
    }
   ],
   "source": [
    "# Mengatur ukuran gambar plot menjadi 10x6.\n",
    "plt.figure(figsize=(10, 6))\n",
    "\n",
    "# Membuat plot bar dengan seaborn untuk menampilkan persentase nilai yang hilang per kolom.\n",
    "sns.barplot(x=percentage_missing.values, y=percentage_missing.index, palette='viridis')\n",
    "\n",
    "# Menambahkan judul plot.\n",
    "plt.title('Persentase Missing Values per Kolom')\n",
    "# Menambahkan label sumbu-x dan sumbu-y.\n",
    "plt.xlabel('Persentase Missing Values (%)')\n",
    "plt.ylabel('Kolom')\n",
    "\n",
    "# Menampilkan plot.\n",
    "plt.show()"
   ]
  },
  {
   "cell_type": "markdown",
   "metadata": {},
   "source": [
    "Hasil visualisasi barplot menunjukkan bahwa sekitar 4% dari data pada kolom BMI memiliki nilai yang hilang (missing value). Hal ini menunjukkan bahwa sebagian kecil dari data BMI dalam dataset tidak memiliki nilai yang lengkap. Untuk analisis lebih lanjut, perlu dipertimbangkan apakah akan mengisi nilai yang hilang atau mengatasi masalah tersebut dengan cara lain sesuai dengan tujuan analisis yang akan dilakukan"
   ]
  },
  {
   "cell_type": "code",
   "execution_count": 11,
   "metadata": {},
   "outputs": [
    {
     "name": "stdout",
     "output_type": "stream",
     "text": [
      "Skewness of age: -0.14\n",
      "Skewness of avg_glucose_level: 1.57\n",
      "Skewness of bmi: nan\n"
     ]
    }
   ],
   "source": [
    "numeric_features = [\"age\", \"avg_glucose_level\", \"bmi\"]\n",
    "\n",
    "for feature in numeric_features:\n",
    "    skewness = skew(df[feature])\n",
    "    print(f\"Skewness of {feature}: {skewness:.2f}\")"
   ]
  },
  {
   "cell_type": "markdown",
   "metadata": {},
   "source": [
    "Hasil pengukuran skewness menunjukkan bahwa distribusi usia (age) memiliki sedikit skewness negatif sebesar -0.14, yang menunjukkan sedikit kemiringan ke kiri. Distribusi avg_glucose_level memiliki skewness positif sebesar 1.57, menunjukkan kemiringan yang signifikan ke kanan, yang mungkin mengindikasikan adanya ekor panjang di sebelah kanan distribusi tersebut.\n",
    "\n",
    "Namun, perlu diperhatikan bahwa nilai skewness untuk BMI (bmi) adalah NaN (Not-a-Number), yang mengindikasikan adanya masalah atau nilai yang hilang dalam data BMI. Oleh karena itu, diperlukan pemrosesan lebih lanjut untuk menangani nilai yang hilang atau potensi masalah dalam data BMI sebelum analisis lebih lanjut."
   ]
  },
  {
   "cell_type": "code",
   "execution_count": 12,
   "metadata": {},
   "outputs": [
    {
     "name": "stdout",
     "output_type": "stream",
     "text": [
      "Female    2994\n",
      "Male      2115\n",
      "Other        1\n",
      "Name: gender, dtype: int64\n",
      "\n",
      "0    4612\n",
      "1     498\n",
      "Name: hypertension, dtype: int64\n",
      "\n",
      "0    4834\n",
      "1     276\n",
      "Name: heart_disease, dtype: int64\n",
      "\n",
      "Yes    3353\n",
      "No     1757\n",
      "Name: ever_married, dtype: int64\n",
      "\n",
      "Private          2925\n",
      "Self-employed     819\n",
      "children          687\n",
      "Govt_job          657\n",
      "Never_worked       22\n",
      "Name: work_type, dtype: int64\n",
      "\n",
      "Urban    2596\n",
      "Rural    2514\n",
      "Name: Residence_type, dtype: int64\n",
      "\n",
      "never smoked       1892\n",
      "Unknown            1544\n",
      "formerly smoked     885\n",
      "smokes              789\n",
      "Name: smoking_status, dtype: int64\n",
      "\n",
      "0    4861\n",
      "1     249\n",
      "Name: stroke, dtype: int64\n",
      "\n"
     ]
    }
   ],
   "source": [
    "for col in ['gender', 'hypertension', 'heart_disease', 'ever_married', 'work_type', 'Residence_type', 'smoking_status', 'stroke']:\n",
    "    print(df[col].value_counts())\n",
    "    print()"
   ]
  },
  {
   "cell_type": "code",
   "execution_count": 13,
   "metadata": {},
   "outputs": [],
   "source": [
    "# fungsi visualisasi boxplot untuk mengetahui outlier\n",
    "def create_boxplot_with_outlier(dataframe):\n",
    "    plt.figure(figsize=(10, 6))\n",
    "    sns.boxplot(data=dataframe, orient='horizontal')\n",
    "    plt.title('Boxplot dengan Outlier')\n",
    "    \n",
    "    plt.show()"
   ]
  },
  {
   "cell_type": "code",
   "execution_count": 14,
   "metadata": {},
   "outputs": [
    {
     "data": {
      "image/png": "[encoded data removed]",
      "text/plain": [
       "<Figure size 1000x600 with 1 Axes>"
      ]
     },
     "metadata": {},
     "output_type": "display_data"
    }
   ],
   "source": [
    "# menerapkan fungsi visualisasi boxplot pada dataframe\n",
    "create_boxplot_with_outlier(df[['age', 'avg_glucose_level', 'bmi']])"
   ]
  },
  {
   "cell_type": "markdown",
   "metadata": {},
   "source": [
    "Age: Distribusi usia (age) tidak memiliki outlier, yang menunjukkan bahwa data usia cenderung homogen tanpa nilai yang sangat ekstrim.\n",
    "\n",
    "Avg Glucose Level: Terdapat outlier pada distribusi tingkat glukosa rata-rata (avg_glucose_level), yang menunjukkan bahwa ada sejumlah kasus dengan nilai glukosa yang sangat tinggi atau rendah dibandingkan dengan mayoritas populasi.\n",
    "\n",
    "BMI (Body Mass Index): Distribusi indeks massa tubuh (bmi) juga memiliki outlier, yang menunjukkan bahwa ada sejumlah kasus dengan nilai BMI yang sangat tinggi atau rendah dibandingkan dengan mayoritas populas"
   ]
  },
  {
   "cell_type": "code",
   "execution_count": 15,
   "metadata": {},
   "outputs": [],
   "source": [
    "# fungsi visualisasi distribusi data\n",
    "def draw_histograms(df, variables, n_rows, n_cols, n_bins):\n",
    "    \n",
    "    fig = plt.figure(figsize=(15, 12))\n",
    "    \n",
    "    # Melakukan iterasi pada variabel yang akan digambar histogramnya.\n",
    "    for i, var_name in enumerate(variables):\n",
    "        # Menambahkan subplot dengan jumlah baris n_rows dan kolom n_cols.\n",
    "        ax = fig.add_subplot(n_rows,n_cols,i+1)\n",
    "        # Menggambar histogram dari variabel dengan jumlah bins sebanyak n_bins.\n",
    "        df[var_name].hist(bins=n_bins,ax=ax)\n",
    "        # Menetapkan judul subplot dengan nama variabel.\n",
    "        ax.set_title(var_name)\n",
    "    # Mengatur tata letak subplot agar tampilan lebih baik.\n",
    "    fig.tight_layout() \n",
    "    # Menampilkan gambar dengan histogram-histogram tersebut.\n",
    "    plt.show()"
   ]
  },
  {
   "cell_type": "code",
   "execution_count": 16,
   "metadata": {},
   "outputs": [
    {
     "data": {
      "image/png": "[encoded data removed]",
      "text/plain": [
       "<Figure size 1500x1200 with 3 Axes>"
      ]
     },
     "metadata": {},
     "output_type": "display_data"
    }
   ],
   "source": [
    "draw_histograms(df, ['age', 'avg_glucose_level', 'bmi'], 5, 3, 20)"
   ]
  },
  {
   "cell_type": "markdown",
   "metadata": {},
   "source": [
    "Kolom `avg_glucose_level` dan `bmi` terlihat skew."
   ]
  },
  {
   "cell_type": "code",
   "execution_count": 17,
   "metadata": {},
   "outputs": [
    {
     "data": {
      "text/plain": [
       "0    0.951272\n",
       "1    0.048728\n",
       "Name: stroke, dtype: float64"
      ]
     },
     "execution_count": 17,
     "metadata": {},
     "output_type": "execute_result"
    }
   ],
   "source": [
    "# Normalized value counts\n",
    "df.stroke.value_counts(normalize=True)"
   ]
  },
  {
   "cell_type": "code",
   "execution_count": 18,
   "metadata": {},
   "outputs": [
    {
     "data": {
      "image/png": "[encoded data removed]",
      "text/plain": [
       "<Figure size 640x480 with 1 Axes>"
      ]
     },
     "metadata": {},
     "output_type": "display_data"
    }
   ],
   "source": [
    "df.stroke.value_counts().plot(kind=\"bar\", color=[\"salmon\", \"lightblue\"]);"
   ]
  },
  {
   "cell_type": "markdown",
   "metadata": {},
   "source": [
    "Insight dari distribusi nilai target (stroke) adalah bahwa mayoritas data (sekitar 95.13%) memiliki nilai 0, yang mengindikasikan bahwa mayoritas observasi dalam dataset ini adalah non-stroke. Sementara itu, hanya sekitar 4.87% observasi yang memiliki nilai 1, yang menunjukkan bahwa kasus stroke dalam dataset ini merupakan minoritas. Dengan demikian, perlu berhati-hati dalam menangani ketidakseimbangan kelas ini saat membangun model prediksi stroke."
   ]
  },
  {
   "cell_type": "code",
   "execution_count": 19,
   "metadata": {},
   "outputs": [
    {
     "data": {
      "image/png": "[encoded data removed]",
      "text/plain": [
       "<Figure size 1000x600 with 1 Axes>"
      ]
     },
     "metadata": {},
     "output_type": "display_data"
    }
   ],
   "source": [
    "# Create a plot\n",
    "pd.crosstab(df.stroke, df.gender).plot(kind=\"bar\", figsize=(10,6), color=[\"salmon\", \"lightblue\"])\n",
    "\n",
    "# Add some attributes to it\n",
    "plt.title(\"Heart Disease Frequency for Gender\")\n",
    "plt.xlabel(\"0 = No Stroke, 1 = Stroke\")\n",
    "plt.ylabel(\"Amount\")\n",
    "plt.legend([\"Female\", \"Male\"])\n",
    "plt.xticks(rotation=0); # keep the labels on the x-axis vertical"
   ]
  },
  {
   "cell_type": "markdown",
   "metadata": {},
   "source": [
    "Dari visualisasi di atas, `Female` lebih banyak terkena stroke dibanding `Male`."
   ]
  },
  {
   "cell_type": "code",
   "execution_count": 20,
   "metadata": {},
   "outputs": [
    {
     "name": "stderr",
     "output_type": "stream",
     "text": [
      "C:\\Users\\User\\AppData\\Local\\Temp\\ipykernel_1796\\2572033417.py:2: FutureWarning: The default value of numeric_only in DataFrame.corr is deprecated. In a future version, it will default to False. Select only valid columns or specify the value of numeric_only to silence this warning.\n",
      "  corr_matrix = df.iloc[:, 1:].corr()\n"
     ]
    },
    {
     "data": {
      "image/png": "[encoded data removed]",
      "text/plain": [
       "<Figure size 1500x1000 with 2 Axes>"
      ]
     },
     "metadata": {},
     "output_type": "display_data"
    }
   ],
   "source": [
    "# Let's make it look a little prettier\n",
    "corr_matrix = df.iloc[:, 1:].corr()\n",
    "plt.figure(figsize=(15, 10))\n",
    "sns.heatmap(corr_matrix, \n",
    "            annot=True, \n",
    "            linewidths=0.5, \n",
    "            fmt= \".2f\", \n",
    "            cmap=\"YlGnBu\")\n",
    "plt.show()"
   ]
  },
  {
   "cell_type": "markdown",
   "metadata": {},
   "source": [
    "Pada visualisasi korelasi diatas, insight yang bisa diambil adalah bahwa korelasi tiap variabel tidak ada yang terlalu kuat, nilai korelasi paling tinggi adalah 0.33"
   ]
  },
  {
   "cell_type": "markdown",
   "metadata": {},
   "source": [
    "# v. Feature Engineering"
   ]
  },
  {
   "cell_type": "code",
   "execution_count": 21,
   "metadata": {},
   "outputs": [],
   "source": [
    "# Everything except target variable\n",
    "X = df.drop(\"stroke\", axis=1)\n",
    "\n",
    "# Target variable\n",
    "y = df.stroke"
   ]
  },
  {
   "cell_type": "code",
   "execution_count": 22,
   "metadata": {},
   "outputs": [],
   "source": [
    "# drop kolom id\n",
    "X.drop('id', axis=1, inplace=True)"
   ]
  },
  {
   "cell_type": "code",
   "execution_count": 23,
   "metadata": {},
   "outputs": [],
   "source": [
    "# merubah nama kolom menjadi huruf kecil semua\n",
    "X.columns = X.columns.str.lower()"
   ]
  },
  {
   "cell_type": "code",
   "execution_count": 24,
   "metadata": {},
   "outputs": [],
   "source": [
    "X_train, X_test, y_train, y_test = train_test_split(X, # independent variables \n",
    "                                                    y, # dependent variable\n",
    "                                                    test_size = 0.2,\n",
    "                                                    random_state = 42) "
   ]
  },
  {
   "cell_type": "markdown",
   "metadata": {},
   "source": [
    "## drop missing value pada train"
   ]
  },
  {
   "cell_type": "code",
   "execution_count": 25,
   "metadata": {},
   "outputs": [],
   "source": [
    "X_train.dropna(inplace=True)\n",
    "y_train = y_train[X_train.index] "
   ]
  },
  {
   "cell_type": "markdown",
   "metadata": {},
   "source": [
    "## drop missing value pada test"
   ]
  },
  {
   "cell_type": "code",
   "execution_count": 26,
   "metadata": {},
   "outputs": [],
   "source": [
    "X_test.dropna(inplace=True)\n",
    "y_test = y_test[X_test.index] "
   ]
  },
  {
   "cell_type": "code",
   "execution_count": 28,
   "metadata": {},
   "outputs": [],
   "source": [
    "# reset index untuk keperluan penggabungan data\n",
    "X_train.reset_index(drop=True, inplace=True)\n",
    "X_test.reset_index(drop=True, inplace=True)\n",
    "y_train.reset_index(drop=True, inplace=True)\n",
    "y_test.reset_index(drop=True, inplace=True)"
   ]
  },
  {
   "cell_type": "code",
   "execution_count": 29,
   "metadata": {},
   "outputs": [],
   "source": [
    "# Tentukan kolom kategorikal dan kolom numerik\n",
    "categorical_features = [\"gender\", \"hypertension\", \"heart_disease\", \"ever_married\", \"work_type\", \"residence_type\", \"smoking_status\"]\n",
    "numeric_features = [\"age\", \"avg_glucose_level\", \"bmi\"]"
   ]
  },
  {
   "cell_type": "markdown",
   "metadata": {},
   "source": [
    "## fungsi-fungsi"
   ]
  },
  {
   "cell_type": "code",
   "execution_count": 30,
   "metadata": {},
   "outputs": [],
   "source": [
    "# fungsi chi squared\n",
    "def chi_squared_feature_selection(X, y, alpha=0.05):\n",
    "    \"\"\"\n",
    "    Memilih fitur menggunakan uji Chi-Square.\n",
    "\n",
    "    Parameters:\n",
    "    - X: DataFrame atau numpy array, berisi fitur-fitur kategorikal.\n",
    "    - y: Series atau numpy array, berisi kolom target.\n",
    "    - alpha: Tingkat signifikansi (default=0.05).\n",
    "\n",
    "    Returns:\n",
    "    - selected_features: List nama fitur terpilih.\n",
    "    - chi2_scores: List nilai statistik Chi-Square untuk masing-masing fitur.\n",
    "    - p_values: List nilai p-value untuk masing-masing fitur.\n",
    "    \"\"\"\n",
    "    selected_features = []\n",
    "    non_selected_features = []\n",
    "\n",
    "    for feature in X.columns:\n",
    "        contingency_table = pd.crosstab(X[feature], y)\n",
    "        _, p, _, _ = chi2_contingency(contingency_table)\n",
    "        \n",
    "        if p < alpha:\n",
    "            selected_features.append(feature)\n",
    "        else:\n",
    "            non_selected_features.append(feature)\n",
    "    \n",
    "    return selected_features, non_selected_features\n",
    "\n",
    "# fungsi uji anova\n",
    "def feature_selection_anova(X, y, alpha=0.05):\n",
    "    \"\"\"\n",
    "    Melakukan feature selection menggunakan uji ANOVA.\n",
    "\n",
    "    Parameters:\n",
    "    - X: DataFrame atau numpy array, berisi fitur-fitur numerik.\n",
    "    - y: Series atau numpy array, berisi kolom target.\n",
    "    - alpha: Tingkat signifikansi (default=0.05).\n",
    "\n",
    "    Returns:\n",
    "    - selected_features: List nama fitur terpilih.\n",
    "    - f_scores: List nilai statistik F untuk masing-masing fitur.\n",
    "    - p_values: List nilai p-value untuk masing-masing fitur.\n",
    "    \"\"\"\n",
    "    selected_features = []\n",
    "    non_selected_features = []\n",
    "    \n",
    "\n",
    "    for feature in X.columns:\n",
    "        f, p = f_oneway(X[feature][y == 0], X[feature][y == 1])\n",
    "        \n",
    "        if p < alpha:\n",
    "            selected_features.append(feature)\n",
    "        else:\n",
    "            non_selected_features.append(feature)\n",
    "    \n",
    "    return selected_features, non_selected_features"
   ]
  },
  {
   "cell_type": "code",
   "execution_count": 31,
   "metadata": {},
   "outputs": [],
   "source": [
    "# inisiasi variabel untuk menampung fitur terseleksi\n",
    "selected_cat_features, non_selected_cat_features = chi_squared_feature_selection(X_train[categorical_features], y_train)"
   ]
  },
  {
   "cell_type": "code",
   "execution_count": 32,
   "metadata": {},
   "outputs": [
    {
     "name": "stderr",
     "output_type": "stream",
     "text": [
      "c:\\Users\\User\\Desktop\\hacktiv8\\env\\lib\\site-packages\\sklearn\\preprocessing\\_encoders.py:868: FutureWarning: `sparse` was renamed to `sparse_output` in version 1.2 and will be removed in 1.4. `sparse_output` is ignored unless you leave `sparse` to its default value.\n",
      "  warnings.warn(\n"
     ]
    }
   ],
   "source": [
    "# melakukan encoding\n",
    "# inisiasi object OneHotEncoder\n",
    "encoder = OneHotEncoder(drop='if_binary', sparse=False)\n",
    "\n",
    "# melakukan fitting encoder terhadap data train\n",
    "encoder.fit(X_train[selected_cat_features])\n",
    "\n",
    "# melakukan transform terhadap data train dan test\n",
    "X_train_ohe_prep = encoder.transform(X_train[selected_cat_features])\n",
    "X_test_ohe_prep = encoder.transform(X_test[selected_cat_features])\n",
    "\n",
    "# merubah ke dataframe untuk data yang sudah encode\n",
    "feature_names= encoder.get_feature_names_out(selected_cat_features)\n",
    "X_train_ohe_prep = pd.DataFrame(X_train_ohe_prep, columns=feature_names)\n",
    "X_test_ohe_prep = pd.DataFrame(X_test_ohe_prep, columns=feature_names)\n",
    "\n",
    "\n",
    "# membuat varibel baru X_train_new yang merupakan penggabungan dataframe keseluruhan X_train dan X_test dengan dataframe hasil encoding\n",
    "X_train_new= pd.concat([X_train, X_train_ohe_prep], axis=1)\n",
    "X_test_new= pd.concat([X_test, X_test_ohe_prep], axis=1)\n",
    "\n",
    "# menghapus kolom yang diterapkan encoding\n",
    "X_train_new.drop(columns=selected_cat_features, inplace=True)\n",
    "X_test_new.drop(columns=selected_cat_features, inplace=True)"
   ]
  },
  {
   "cell_type": "code",
   "execution_count": 33,
   "metadata": {},
   "outputs": [],
   "source": [
    "# melakukan scaling\n",
    "scaler = MinMaxScaler()\n",
    "\n",
    "# proses fit dan transofrm minmaxscaler pada data train dan test dengan kolom numeric\n",
    "scaler.fit(X_train_new[numeric_features])\n",
    "X_train_new[numeric_features] = scaler.transform(X_train_new[numeric_features])\n",
    "X_test_new[numeric_features] = scaler.transform(X_test_new[numeric_features])"
   ]
  },
  {
   "cell_type": "code",
   "execution_count": 34,
   "metadata": {},
   "outputs": [
    {
     "data": {
      "text/html": [
       "<div>\n",
       "<style scoped>\n",
       "    .dataframe tbody tr th:only-of-type {\n",
       "        vertical-align: middle;\n",
       "    }\n",
       "\n",
       "    .dataframe tbody tr th {\n",
       "        vertical-align: top;\n",
       "    }\n",
       "\n",
       "    .dataframe thead th {\n",
       "        text-align: right;\n",
       "    }\n",
       "</style>\n",
       "<table border=\"1\" class=\"dataframe\">\n",
       "  <thead>\n",
       "    <tr style=\"text-align: right;\">\n",
       "      <th></th>\n",
       "      <th>gender</th>\n",
       "      <th>age</th>\n",
       "      <th>residence_type</th>\n",
       "      <th>avg_glucose_level</th>\n",
       "      <th>bmi</th>\n",
       "      <th>hypertension_1</th>\n",
       "      <th>heart_disease_1</th>\n",
       "      <th>ever_married_Yes</th>\n",
       "      <th>work_type_Govt_job</th>\n",
       "      <th>work_type_Never_worked</th>\n",
       "      <th>work_type_Private</th>\n",
       "      <th>work_type_Self-employed</th>\n",
       "      <th>work_type_children</th>\n",
       "      <th>smoking_status_Unknown</th>\n",
       "      <th>smoking_status_formerly smoked</th>\n",
       "      <th>smoking_status_never smoked</th>\n",
       "      <th>smoking_status_smokes</th>\n",
       "    </tr>\n",
       "  </thead>\n",
       "  <tbody>\n",
       "    <tr>\n",
       "      <th>0</th>\n",
       "      <td>Male</td>\n",
       "      <td>0.963343</td>\n",
       "      <td>Rural</td>\n",
       "      <td>0.265534</td>\n",
       "      <td>0.208477</td>\n",
       "      <td>0.0</td>\n",
       "      <td>0.0</td>\n",
       "      <td>1.0</td>\n",
       "      <td>0.0</td>\n",
       "      <td>0.0</td>\n",
       "      <td>0.0</td>\n",
       "      <td>1.0</td>\n",
       "      <td>0.0</td>\n",
       "      <td>0.0</td>\n",
       "      <td>1.0</td>\n",
       "      <td>0.0</td>\n",
       "      <td>0.0</td>\n",
       "    </tr>\n",
       "    <tr>\n",
       "      <th>1</th>\n",
       "      <td>Female</td>\n",
       "      <td>0.755621</td>\n",
       "      <td>Urban</td>\n",
       "      <td>0.153264</td>\n",
       "      <td>0.297824</td>\n",
       "      <td>0.0</td>\n",
       "      <td>0.0</td>\n",
       "      <td>1.0</td>\n",
       "      <td>0.0</td>\n",
       "      <td>0.0</td>\n",
       "      <td>1.0</td>\n",
       "      <td>0.0</td>\n",
       "      <td>0.0</td>\n",
       "      <td>1.0</td>\n",
       "      <td>0.0</td>\n",
       "      <td>0.0</td>\n",
       "      <td>0.0</td>\n",
       "    </tr>\n",
       "    <tr>\n",
       "      <th>2</th>\n",
       "      <td>Female</td>\n",
       "      <td>0.254643</td>\n",
       "      <td>Rural</td>\n",
       "      <td>0.020312</td>\n",
       "      <td>0.268041</td>\n",
       "      <td>0.0</td>\n",
       "      <td>0.0</td>\n",
       "      <td>0.0</td>\n",
       "      <td>0.0</td>\n",
       "      <td>0.0</td>\n",
       "      <td>1.0</td>\n",
       "      <td>0.0</td>\n",
       "      <td>0.0</td>\n",
       "      <td>0.0</td>\n",
       "      <td>0.0</td>\n",
       "      <td>1.0</td>\n",
       "      <td>0.0</td>\n",
       "    </tr>\n",
       "    <tr>\n",
       "      <th>3</th>\n",
       "      <td>Male</td>\n",
       "      <td>0.376833</td>\n",
       "      <td>Urban</td>\n",
       "      <td>0.048841</td>\n",
       "      <td>0.230241</td>\n",
       "      <td>0.0</td>\n",
       "      <td>0.0</td>\n",
       "      <td>1.0</td>\n",
       "      <td>1.0</td>\n",
       "      <td>0.0</td>\n",
       "      <td>0.0</td>\n",
       "      <td>0.0</td>\n",
       "      <td>0.0</td>\n",
       "      <td>0.0</td>\n",
       "      <td>1.0</td>\n",
       "      <td>0.0</td>\n",
       "      <td>0.0</td>\n",
       "    </tr>\n",
       "    <tr>\n",
       "      <th>4</th>\n",
       "      <td>Female</td>\n",
       "      <td>0.376833</td>\n",
       "      <td>Rural</td>\n",
       "      <td>0.020820</td>\n",
       "      <td>0.109966</td>\n",
       "      <td>0.0</td>\n",
       "      <td>0.0</td>\n",
       "      <td>0.0</td>\n",
       "      <td>0.0</td>\n",
       "      <td>0.0</td>\n",
       "      <td>1.0</td>\n",
       "      <td>0.0</td>\n",
       "      <td>0.0</td>\n",
       "      <td>0.0</td>\n",
       "      <td>0.0</td>\n",
       "      <td>1.0</td>\n",
       "      <td>0.0</td>\n",
       "    </tr>\n",
       "    <tr>\n",
       "      <th>...</th>\n",
       "      <td>...</td>\n",
       "      <td>...</td>\n",
       "      <td>...</td>\n",
       "      <td>...</td>\n",
       "      <td>...</td>\n",
       "      <td>...</td>\n",
       "      <td>...</td>\n",
       "      <td>...</td>\n",
       "      <td>...</td>\n",
       "      <td>...</td>\n",
       "      <td>...</td>\n",
       "      <td>...</td>\n",
       "      <td>...</td>\n",
       "      <td>...</td>\n",
       "      <td>...</td>\n",
       "      <td>...</td>\n",
       "      <td>...</td>\n",
       "    </tr>\n",
       "    <tr>\n",
       "      <th>3927</th>\n",
       "      <td>Male</td>\n",
       "      <td>0.523460</td>\n",
       "      <td>Rural</td>\n",
       "      <td>0.151787</td>\n",
       "      <td>0.232532</td>\n",
       "      <td>0.0</td>\n",
       "      <td>0.0</td>\n",
       "      <td>1.0</td>\n",
       "      <td>1.0</td>\n",
       "      <td>0.0</td>\n",
       "      <td>0.0</td>\n",
       "      <td>0.0</td>\n",
       "      <td>0.0</td>\n",
       "      <td>0.0</td>\n",
       "      <td>0.0</td>\n",
       "      <td>1.0</td>\n",
       "      <td>0.0</td>\n",
       "    </tr>\n",
       "    <tr>\n",
       "      <th>3928</th>\n",
       "      <td>Female</td>\n",
       "      <td>0.743402</td>\n",
       "      <td>Rural</td>\n",
       "      <td>0.530560</td>\n",
       "      <td>0.571592</td>\n",
       "      <td>1.0</td>\n",
       "      <td>0.0</td>\n",
       "      <td>1.0</td>\n",
       "      <td>0.0</td>\n",
       "      <td>0.0</td>\n",
       "      <td>1.0</td>\n",
       "      <td>0.0</td>\n",
       "      <td>0.0</td>\n",
       "      <td>0.0</td>\n",
       "      <td>0.0</td>\n",
       "      <td>0.0</td>\n",
       "      <td>1.0</td>\n",
       "    </tr>\n",
       "    <tr>\n",
       "      <th>3929</th>\n",
       "      <td>Female</td>\n",
       "      <td>0.012219</td>\n",
       "      <td>Urban</td>\n",
       "      <td>0.194627</td>\n",
       "      <td>0.085911</td>\n",
       "      <td>0.0</td>\n",
       "      <td>0.0</td>\n",
       "      <td>0.0</td>\n",
       "      <td>0.0</td>\n",
       "      <td>0.0</td>\n",
       "      <td>0.0</td>\n",
       "      <td>0.0</td>\n",
       "      <td>1.0</td>\n",
       "      <td>1.0</td>\n",
       "      <td>0.0</td>\n",
       "      <td>0.0</td>\n",
       "      <td>0.0</td>\n",
       "    </tr>\n",
       "    <tr>\n",
       "      <th>3930</th>\n",
       "      <td>Male</td>\n",
       "      <td>0.975562</td>\n",
       "      <td>Rural</td>\n",
       "      <td>0.650725</td>\n",
       "      <td>0.237113</td>\n",
       "      <td>0.0</td>\n",
       "      <td>0.0</td>\n",
       "      <td>1.0</td>\n",
       "      <td>0.0</td>\n",
       "      <td>0.0</td>\n",
       "      <td>0.0</td>\n",
       "      <td>1.0</td>\n",
       "      <td>0.0</td>\n",
       "      <td>0.0</td>\n",
       "      <td>1.0</td>\n",
       "      <td>0.0</td>\n",
       "      <td>0.0</td>\n",
       "    </tr>\n",
       "    <tr>\n",
       "      <th>3931</th>\n",
       "      <td>Female</td>\n",
       "      <td>0.560117</td>\n",
       "      <td>Rural</td>\n",
       "      <td>0.207876</td>\n",
       "      <td>0.458190</td>\n",
       "      <td>0.0</td>\n",
       "      <td>0.0</td>\n",
       "      <td>1.0</td>\n",
       "      <td>0.0</td>\n",
       "      <td>0.0</td>\n",
       "      <td>1.0</td>\n",
       "      <td>0.0</td>\n",
       "      <td>0.0</td>\n",
       "      <td>0.0</td>\n",
       "      <td>0.0</td>\n",
       "      <td>0.0</td>\n",
       "      <td>1.0</td>\n",
       "    </tr>\n",
       "  </tbody>\n",
       "</table>\n",
       "<p>3932 rows × 17 columns</p>\n",
       "</div>"
      ],
      "text/plain": [
       "      gender       age residence_type  avg_glucose_level       bmi  \\\n",
       "0       Male  0.963343          Rural           0.265534  0.208477   \n",
       "1     Female  0.755621          Urban           0.153264  0.297824   \n",
       "2     Female  0.254643          Rural           0.020312  0.268041   \n",
       "3       Male  0.376833          Urban           0.048841  0.230241   \n",
       "4     Female  0.376833          Rural           0.020820  0.109966   \n",
       "...      ...       ...            ...                ...       ...   \n",
       "3927    Male  0.523460          Rural           0.151787  0.232532   \n",
       "3928  Female  0.743402          Rural           0.530560  0.571592   \n",
       "3929  Female  0.012219          Urban           0.194627  0.085911   \n",
       "3930    Male  0.975562          Rural           0.650725  0.237113   \n",
       "3931  Female  0.560117          Rural           0.207876  0.458190   \n",
       "\n",
       "      hypertension_1  heart_disease_1  ever_married_Yes  work_type_Govt_job  \\\n",
       "0                0.0              0.0               1.0                 0.0   \n",
       "1                0.0              0.0               1.0                 0.0   \n",
       "2                0.0              0.0               0.0                 0.0   \n",
       "3                0.0              0.0               1.0                 1.0   \n",
       "4                0.0              0.0               0.0                 0.0   \n",
       "...              ...              ...               ...                 ...   \n",
       "3927             0.0              0.0               1.0                 1.0   \n",
       "3928             1.0              0.0               1.0                 0.0   \n",
       "3929             0.0              0.0               0.0                 0.0   \n",
       "3930             0.0              0.0               1.0                 0.0   \n",
       "3931             0.0              0.0               1.0                 0.0   \n",
       "\n",
       "      work_type_Never_worked  work_type_Private  work_type_Self-employed  \\\n",
       "0                        0.0                0.0                      1.0   \n",
       "1                        0.0                1.0                      0.0   \n",
       "2                        0.0                1.0                      0.0   \n",
       "3                        0.0                0.0                      0.0   \n",
       "4                        0.0                1.0                      0.0   \n",
       "...                      ...                ...                      ...   \n",
       "3927                     0.0                0.0                      0.0   \n",
       "3928                     0.0                1.0                      0.0   \n",
       "3929                     0.0                0.0                      0.0   \n",
       "3930                     0.0                0.0                      1.0   \n",
       "3931                     0.0                1.0                      0.0   \n",
       "\n",
       "      work_type_children  smoking_status_Unknown  \\\n",
       "0                    0.0                     0.0   \n",
       "1                    0.0                     1.0   \n",
       "2                    0.0                     0.0   \n",
       "3                    0.0                     0.0   \n",
       "4                    0.0                     0.0   \n",
       "...                  ...                     ...   \n",
       "3927                 0.0                     0.0   \n",
       "3928                 0.0                     0.0   \n",
       "3929                 1.0                     1.0   \n",
       "3930                 0.0                     0.0   \n",
       "3931                 0.0                     0.0   \n",
       "\n",
       "      smoking_status_formerly smoked  smoking_status_never smoked  \\\n",
       "0                                1.0                          0.0   \n",
       "1                                0.0                          0.0   \n",
       "2                                0.0                          1.0   \n",
       "3                                1.0                          0.0   \n",
       "4                                0.0                          1.0   \n",
       "...                              ...                          ...   \n",
       "3927                             0.0                          1.0   \n",
       "3928                             0.0                          0.0   \n",
       "3929                             0.0                          0.0   \n",
       "3930                             1.0                          0.0   \n",
       "3931                             0.0                          0.0   \n",
       "\n",
       "      smoking_status_smokes  \n",
       "0                       0.0  \n",
       "1                       0.0  \n",
       "2                       0.0  \n",
       "3                       0.0  \n",
       "4                       0.0  \n",
       "...                     ...  \n",
       "3927                    0.0  \n",
       "3928                    1.0  \n",
       "3929                    0.0  \n",
       "3930                    0.0  \n",
       "3931                    1.0  \n",
       "\n",
       "[3932 rows x 17 columns]"
      ]
     },
     "execution_count": 34,
     "metadata": {},
     "output_type": "execute_result"
    }
   ],
   "source": [
    "# cek X_train_new\n",
    "X_train_new"
   ]
  },
  {
   "cell_type": "code",
   "execution_count": 35,
   "metadata": {},
   "outputs": [],
   "source": [
    "# inisiasi fitur numerik terpilih\n",
    "selected_num_features, non_selected_num_features = feature_selection_anova(X_train[numeric_features], y_train)"
   ]
  },
  {
   "cell_type": "code",
   "execution_count": 36,
   "metadata": {},
   "outputs": [],
   "source": [
    "# drop kolom yang tidak masuk fitur terpilih\n",
    "X_train_new.drop(columns=non_selected_num_features + non_selected_cat_features, inplace=True)\n",
    "X_test_new.drop(columns=non_selected_num_features + non_selected_cat_features, inplace=True)"
   ]
  },
  {
   "cell_type": "markdown",
   "metadata": {},
   "source": [
    "# vi. Model Definition"
   ]
  },
  {
   "cell_type": "code",
   "execution_count": 37,
   "metadata": {},
   "outputs": [
    {
     "name": "stdout",
     "output_type": "stream",
     "text": [
      "Hasil Evaluasi Model pada Data Training:\n",
      "KNN:\n",
      "  Mean recall: 0.0129\n",
      "  Std recall: 0.0258\n",
      "SVM:\n",
      "  Mean recall: 0.0000\n",
      "  Std recall: 0.0000\n",
      "Decision Tree:\n",
      "  Mean recall: 0.1337\n",
      "  Std recall: 0.0114\n",
      "Random Forest:\n",
      "  Mean recall: 0.0063\n",
      "  Std recall: 0.0125\n",
      "XGB:\n",
      "  Mean recall: 0.0317\n",
      "  Std recall: 0.0198\n",
      "Model Terbaik pada Data Training: Decision Tree dengan Mean Recall: 0.1337\n",
      "\n",
      "Evaluasi Model Terbaik pada Data Test:\n",
      "Model Terbaik: Decision Tree\n",
      "Recall pada Data Test: 0.1538\n"
     ]
    }
   ],
   "source": [
    "models = {\n",
    "    'KNN': KNeighborsClassifier(),\n",
    "    'SVM': SVC(),\n",
    "    'Decision Tree': DecisionTreeClassifier(),\n",
    "    'Random Forest': RandomForestClassifier(),\n",
    "    'XGB': xgb.XGBClassifier()\n",
    "}\n",
    "\n",
    "# Loop melalui setiap model, melatih model dan menghitung performansi\n",
    "results = {}\n",
    "for model_name, model in models.items():\n",
    "    pipeline = Pipeline([\n",
    "        ('model', model)\n",
    "    ])\n",
    "    \n",
    "    # Hitung performansi dengan cross-validation (misalnya, 5-fold)\n",
    "    scores = cross_val_score(pipeline, X_train_new, y_train, cv=5, scoring='recall')\n",
    "    \n",
    "    # Simpan hasil performansi\n",
    "    results[model_name] = {\n",
    "        'mean_recall': scores.mean(),\n",
    "        'std_recall': scores.std()\n",
    "    }\n",
    "\n",
    "# Cari model dengan akurasi tertinggi\n",
    "best_model = max(results, key=lambda k: results[k]['mean_recall'])\n",
    "\n",
    "print(\"Hasil Evaluasi Model pada Data Training:\")\n",
    "for model_name, metrics in results.items():\n",
    "    print(f\"{model_name}:\")\n",
    "    print(f\"  Mean recall: {metrics['mean_recall']:.4f}\")\n",
    "    print(f\"  Std recall: {metrics['std_recall']:.4f}\")\n",
    "\n",
    "print(f\"Model Terbaik pada Data Training: {best_model} dengan Mean Recall: {results[best_model]['mean_recall']:.4f}\")\n",
    "\n",
    "# Evaluasi model terbaik pada data test (X_test_new)\n",
    "best_model_pipeline = Pipeline([\n",
    "    ('model', models[best_model])\n",
    "])\n",
    "\n",
    "best_model_pipeline.fit(X_train_new, y_train)\n",
    "y_pred = best_model_pipeline.predict(X_test_new)\n",
    "test_recall = recall_score(y_test, y_pred)\n",
    "\n",
    "print(f\"\\nEvaluasi Model Terbaik pada Data Test:\")\n",
    "print(f\"Model Terbaik: {best_model}\")\n",
    "print(f\"Recall pada Data Test: {test_recall:.4f}\")\n"
   ]
  },
  {
   "cell_type": "markdown",
   "metadata": {},
   "source": [
    "# vii. Model Training"
   ]
  },
  {
   "cell_type": "code",
   "execution_count": 38,
   "metadata": {},
   "outputs": [
    {
     "name": "stdout",
     "output_type": "stream",
     "text": [
      "Performansi Model Decision Tree Sebelum Hyperparameter Tuning:\n",
      "Recall pada Data Test: 0.1538\n",
      "\n",
      "Performansi Model Decision Tree Setelah Hyperparameter Tuning:\n",
      "Recall pada Data Test: 0.6731\n"
     ]
    }
   ],
   "source": [
    "# Inisialisasi model Decision Tree\n",
    "decision_tree = DecisionTreeClassifier(random_state=42)\n",
    "\n",
    "# Definisikan grid parameter yang akan dioptimalkan\n",
    "param_grid = {\n",
    "    'criterion': ['gini', 'entropy'],\n",
    "    'max_depth': [None, 5, 10, 15, 20],\n",
    "    'min_samples_split': [2, 5, 10],\n",
    "    'min_samples_leaf': [1, 2, 4],\n",
    "    'class_weight': [None, 'balanced']\n",
    "}\n",
    "\n",
    "# Inisialisasi GridSearchCV dengan scoring='recall' dan cross-validation\n",
    "grid_search = GridSearchCV(decision_tree, param_grid, scoring='recall', cv=5, n_jobs=-1)\n",
    "\n",
    "# Lakukan hyperparameter tuning pada data training\n",
    "grid_search.fit(X_train_new, y_train)\n",
    "\n",
    "# Model terbaik setelah hyperparameter tuning\n",
    "best_decision_tree = grid_search.best_estimator_\n",
    "\n",
    "# Evaluasi model terbaik pada data test\n",
    "y_pred_tuned = best_decision_tree.predict(X_test_new)\n",
    "test_recall_tuned = recall_score(y_test, y_pred_tuned)\n",
    "\n",
    "# Evaluasi model sebelum hyperparameter tuning pada data test\n",
    "y_pred_original = decision_tree.fit(X_train_new, y_train).predict(X_test_new)\n",
    "test_recall_original = recall_score(y_test, y_pred_original)\n",
    "\n",
    "# Bandingkan performansi sebelum dan sesudah hyperparameter tuning\n",
    "print(\"Performansi Model Decision Tree Sebelum Hyperparameter Tuning:\")\n",
    "print(f\"Recall pada Data Test: {test_recall_original:.4f}\")\n",
    "\n",
    "print(\"\\nPerformansi Model Decision Tree Setelah Hyperparameter Tuning:\")\n",
    "print(f\"Recall pada Data Test: {test_recall_tuned:.4f}\")\n"
   ]
  },
  {
   "cell_type": "code",
   "execution_count": 39,
   "metadata": {},
   "outputs": [
    {
     "data": {
      "text/html": [
       "<style>#sk-container-id-1 {color: black;background-color: white;}#sk-container-id-1 pre{padding: 0;}#sk-container-id-1 div.sk-toggleable {background-color: white;}#sk-container-id-1 label.sk-toggleable__label {cursor: pointer;display: block;width: 100%;margin-bottom: 0;padding: 0.3em;box-sizing: border-box;text-align: center;}#sk-container-id-1 label.sk-toggleable__label-arrow:before {content: \"▸\";float: left;margin-right: 0.25em;color: #696969;}#sk-container-id-1 label.sk-toggleable__label-arrow:hover:before {color: black;}#sk-container-id-1 div.sk-estimator:hover label.sk-toggleable__label-arrow:before {color: black;}#sk-container-id-1 div.sk-toggleable__content {max-height: 0;max-width: 0;overflow: hidden;text-align: left;background-color: #f0f8ff;}#sk-container-id-1 div.sk-toggleable__content pre {margin: 0.2em;color: black;border-radius: 0.25em;background-color: #f0f8ff;}#sk-container-id-1 input.sk-toggleable__control:checked~div.sk-toggleable__content {max-height: 200px;max-width: 100%;overflow: auto;}#sk-container-id-1 input.sk-toggleable__control:checked~label.sk-toggleable__label-arrow:before {content: \"▾\";}#sk-container-id-1 div.sk-estimator input.sk-toggleable__control:checked~label.sk-toggleable__label {background-color: #d4ebff;}#sk-container-id-1 div.sk-label input.sk-toggleable__control:checked~label.sk-toggleable__label {background-color: #d4ebff;}#sk-container-id-1 input.sk-hidden--visually {border: 0;clip: rect(1px 1px 1px 1px);clip: rect(1px, 1px, 1px, 1px);height: 1px;margin: -1px;overflow: hidden;padding: 0;position: absolute;width: 1px;}#sk-container-id-1 div.sk-estimator {font-family: monospace;background-color: #f0f8ff;border: 1px dotted black;border-radius: 0.25em;box-sizing: border-box;margin-bottom: 0.5em;}#sk-container-id-1 div.sk-estimator:hover {background-color: #d4ebff;}#sk-container-id-1 div.sk-parallel-item::after {content: \"\";width: 100%;border-bottom: 1px solid gray;flex-grow: 1;}#sk-container-id-1 div.sk-label:hover label.sk-toggleable__label {background-color: #d4ebff;}#sk-container-id-1 div.sk-serial::before {content: \"\";position: absolute;border-left: 1px solid gray;box-sizing: border-box;top: 0;bottom: 0;left: 50%;z-index: 0;}#sk-container-id-1 div.sk-serial {display: flex;flex-direction: column;align-items: center;background-color: white;padding-right: 0.2em;padding-left: 0.2em;position: relative;}#sk-container-id-1 div.sk-item {position: relative;z-index: 1;}#sk-container-id-1 div.sk-parallel {display: flex;align-items: stretch;justify-content: center;background-color: white;position: relative;}#sk-container-id-1 div.sk-item::before, #sk-container-id-1 div.sk-parallel-item::before {content: \"\";position: absolute;border-left: 1px solid gray;box-sizing: border-box;top: 0;bottom: 0;left: 50%;z-index: -1;}#sk-container-id-1 div.sk-parallel-item {display: flex;flex-direction: column;z-index: 1;position: relative;background-color: white;}#sk-container-id-1 div.sk-parallel-item:first-child::after {align-self: flex-end;width: 50%;}#sk-container-id-1 div.sk-parallel-item:last-child::after {align-self: flex-start;width: 50%;}#sk-container-id-1 div.sk-parallel-item:only-child::after {width: 0;}#sk-container-id-1 div.sk-dashed-wrapped {border: 1px dashed gray;margin: 0 0.4em 0.5em 0.4em;box-sizing: border-box;padding-bottom: 0.4em;background-color: white;}#sk-container-id-1 div.sk-label label {font-family: monospace;font-weight: bold;display: inline-block;line-height: 1.2em;}#sk-container-id-1 div.sk-label-container {text-align: center;}#sk-container-id-1 div.sk-container {/* jupyter's `normalize.less` sets `[hidden] { display: none; }` but bootstrap.min.css set `[hidden] { display: none !important; }` so we also need the `!important` here to be able to override the default hidden behavior on the sphinx rendered scikit-learn.org. See: https://github.com/scikit-learn/scikit-learn/issues/21755 */display: inline-block !important;position: relative;}#sk-container-id-1 div.sk-text-repr-fallback {display: none;}</style><div id=\"sk-container-id-1\" class=\"sk-top-container\"><div class=\"sk-text-repr-fallback\"><pre>DecisionTreeClassifier(class_weight=&#x27;balanced&#x27;, max_depth=5, random_state=42)</pre><b>In a Jupyter environment, please rerun this cell to show the HTML representation or trust the notebook. <br />On GitHub, the HTML representation is unable to render, please try loading this page with nbviewer.org.</b></div><div class=\"sk-container\" hidden><div class=\"sk-item\"><div class=\"sk-estimator sk-toggleable\"><input class=\"sk-toggleable__control sk-hidden--visually\" id=\"sk-estimator-id-1\" type=\"checkbox\" checked><label for=\"sk-estimator-id-1\" class=\"sk-toggleable__label sk-toggleable__label-arrow\">DecisionTreeClassifier</label><div class=\"sk-toggleable__content\"><pre>DecisionTreeClassifier(class_weight=&#x27;balanced&#x27;, max_depth=5, random_state=42)</pre></div></div></div></div></div>"
      ],
      "text/plain": [
       "DecisionTreeClassifier(class_weight='balanced', max_depth=5, random_state=42)"
      ]
     },
     "execution_count": 39,
     "metadata": {},
     "output_type": "execute_result"
    }
   ],
   "source": [
    "best_decision_tree"
   ]
  },
  {
   "cell_type": "code",
   "execution_count": 40,
   "metadata": {},
   "outputs": [
    {
     "data": {
      "text/plain": [
       "{'class_weight': 'balanced',\n",
       " 'criterion': 'gini',\n",
       " 'max_depth': 5,\n",
       " 'min_samples_leaf': 1,\n",
       " 'min_samples_split': 2}"
      ]
     },
     "execution_count": 40,
     "metadata": {},
     "output_type": "execute_result"
    }
   ],
   "source": [
    "grid_search.best_params_"
   ]
  },
  {
   "cell_type": "markdown",
   "metadata": {},
   "source": [
    "# viii. Model Evaluation"
   ]
  },
  {
   "cell_type": "code",
   "execution_count": 41,
   "metadata": {},
   "outputs": [],
   "source": [
    "# fungsi evaluasi model\n",
    "def evaluate_model(model, X_test, y_test):\n",
    "    y_pred = model.predict(X_test)\n",
    "    accuracy = accuracy_score(y_test, y_pred)\n",
    "    precision = precision_score(y_test, y_pred)\n",
    "    recall = recall_score(y_test, y_pred)\n",
    "    f1 = f1_score(y_test, y_pred)\n",
    "    return accuracy, precision, recall, f1"
   ]
  },
  {
   "cell_type": "code",
   "execution_count": 42,
   "metadata": {},
   "outputs": [
    {
     "data": {
      "text/html": [
       "<div>\n",
       "<style scoped>\n",
       "    .dataframe tbody tr th:only-of-type {\n",
       "        vertical-align: middle;\n",
       "    }\n",
       "\n",
       "    .dataframe tbody tr th {\n",
       "        vertical-align: top;\n",
       "    }\n",
       "\n",
       "    .dataframe thead th {\n",
       "        text-align: right;\n",
       "    }\n",
       "</style>\n",
       "<table border=\"1\" class=\"dataframe\">\n",
       "  <thead>\n",
       "    <tr style=\"text-align: right;\">\n",
       "      <th></th>\n",
       "      <th>Model</th>\n",
       "      <th>Accuracy</th>\n",
       "      <th>Precision</th>\n",
       "      <th>Recall</th>\n",
       "      <th>F1 Score</th>\n",
       "    </tr>\n",
       "  </thead>\n",
       "  <tbody>\n",
       "    <tr>\n",
       "      <th>0</th>\n",
       "      <td>Decision Tree</td>\n",
       "      <td>0.785056</td>\n",
       "      <td>0.153509</td>\n",
       "      <td>0.673077</td>\n",
       "      <td>0.25</td>\n",
       "    </tr>\n",
       "  </tbody>\n",
       "</table>\n",
       "</div>"
      ],
      "text/plain": [
       "           Model  Accuracy  Precision    Recall  F1 Score\n",
       "0  Decision Tree  0.785056   0.153509  0.673077      0.25"
      ]
     },
     "metadata": {},
     "output_type": "display_data"
    }
   ],
   "source": [
    "models = [\n",
    "    ('Decision Tree', best_decision_tree)\n",
    "]\n",
    "\n",
    "results = []\n",
    "for name, model in models:\n",
    "    model.fit(X_train_new, y_train)\n",
    "    accuracy, precision, recall, f1 = evaluate_model(model, X_test_new,\n",
    "    y_test)\n",
    "    results.append([name, accuracy, precision, recall, f1])\n",
    "\n",
    "# Menampilkan hasil dalam tabel perbandingan\n",
    "results_df = pd.DataFrame(results, columns=['Model', 'Accuracy', 'Precision', 'Recall', 'F1 Score'])\n",
    "display(results_df)"
   ]
  },
  {
   "cell_type": "markdown",
   "metadata": {},
   "source": [
    "Akurasi (Accuracy): Model Decision Tree memiliki akurasi sekitar 77.79%. Ini mengindikasikan bahwa sekitar 77.79% dari prediksi yang dilakukan oleh model ini benar-benar sesuai dengan kenyataan. Namun, akurasi saja mungkin tidak cukup untuk mengevaluasi kinerja model pada kasus ini, mengingat ketidakseimbangan kelas target.\n",
    "\n",
    "Presisi (Precision): Presisi model Decision Tree adalah sekitar 14.89%. Ini berarti bahwa sekitar 14.89% dari kasus yang diprediksi sebagai stroke oleh model ini benar-benar merupakan kasus stroke. Presisi yang rendah menunjukkan bahwa terdapat banyak false positive, yang bisa berarti seseorang dianggap berisiko stroke ketika sebenarnya tidak.\n",
    "\n",
    "Recall: Recall (sensitivitas) model Decision Tree adalah sekitar 67.31%. Ini mengindikasikan bahwa model ini dapat mengidentifikasi sekitar 67.31% dari semua kasus stroke yang sebenarnya ada dalam dataset. Recall yang lebih tinggi adalah prioritas dalam kasus ini karena penting untuk mendeteksi sebanyak mungkin kasus stroke.\n",
    "\n",
    "F1 Score: F1 Score model Decision Tree adalah sekitar 24.39%. F1 Score adalah metrik yang menggabungkan presisi dan recall. Meskipun F1 Score mencoba untuk menyeimbangkan presisi dan recall, nilainya masih rendah, yang mengindikasikan bahwa model mungkin perlu ditingkatkan dalam hal kemampuan memprediksi kasus stroke."
   ]
  },
  {
   "cell_type": "markdown",
   "metadata": {},
   "source": [
    "# ix. Model Saving"
   ]
  },
  {
   "cell_type": "code",
   "execution_count": 43,
   "metadata": {},
   "outputs": [],
   "source": [
    "with open('model.pkl', 'wb') as file_1:\n",
    "  joblib.dump(best_decision_tree, file_1)\n",
    "\n",
    "# scaler\n",
    "with open('scaler.pkl', 'wb') as file_2:\n",
    "  joblib.dump(scaler, file_2)\n",
    "\n",
    "# simpan encoder\n",
    "with open('encoder.pkl', 'wb') as file_3:\n",
    "  joblib.dump(encoder, file_3)\n",
    "\n",
    "# simpan list kolom, fitur, dan non fitur kategorikal\n",
    "with open('categorical_features.txt', 'w') as file_4:\n",
    "  json.dump(categorical_features, file_4)\n",
    "\n",
    "with open('selected_cat_features.txt', 'w') as file_5:\n",
    "  json.dump(selected_cat_features, file_5)\n",
    "\n",
    "with open('non_selected_cat_features.txt', 'w') as file_6:\n",
    "  json.dump(non_selected_cat_features, file_6)\n",
    "\n",
    "# simpan list kolom, fitur, dan non fitur numerical\n",
    "with open('numeric_features.txt', 'w') as file_7:\n",
    "  json.dump(numeric_features, file_7)\n",
    "\n",
    "with open('selected_num_features.txt', 'w') as file_8:\n",
    "  json.dump(selected_num_features,file_8)\n",
    "\n",
    "with open('non_selected_num_features.txt', 'w') as file_9:\n",
    "  json.dump(non_selected_num_features, file_9)"
   ]
  },
  {
   "cell_type": "markdown",
   "metadata": {},
   "source": [
    "# x. Model Inference"
   ]
  },
  {
   "cell_type": "markdown",
   "metadata": {},
   "source": [
    "Lihat pada file [P1M2_Mujahid_inf](P1M2_Mujahid_inf.ipynb)."
   ]
  },
  {
   "cell_type": "markdown",
   "metadata": {},
   "source": [
    "# xi. Pengambilan Kesimpulan"
   ]
  },
  {
   "cell_type": "markdown",
   "metadata": {},
   "source": [
    "**Kelebihan Model Decision Tree:**\n",
    "\n",
    "* Interpretasi yang Mudah: Decision Tree adalah model yang mudah diinterpretasikan. Ini berarti hasil keputusan dari model ini dapat dengan mudah dijelaskan kepada pemangku kepentingan atau profesional kesehatan tanpa pengetahuan statistik yang mendalam.\n",
    "\n",
    "* Kemampuan dalam Menangani Data Campuran: Decision Tree dapat digunakan untuk pemodelan data dengan campuran jenis variabel (baik numerik maupun kategorikal). Ini cocok untuk dataset kesehatan yang seringkali memiliki berbagai jenis data.\n",
    "\n",
    "* Kecepatan Komputasi: Decision Tree cenderung memiliki waktu pelatihan yang lebih cepat dibandingkan dengan beberapa algoritma kompleks lainnya, yang dapat menguntungkan dalam situasi di mana waktu pemrosesan adalah faktor kunci.\n",
    "\n",
    "**Kelemahan Model Decision Tree:**\n",
    "\n",
    "* Ketidakseimbangan Data: Salah satu kelemahan utama dalam penggunaan Decision Tree pada dataset ini adalah ketidakseimbangan data, di mana mayoritas data adalah non-stroke (0), sementara kasus stroke (1) adalah minoritas. Ini dapat mengakibatkan model cenderung memprediksi mayoritas kelas (0) dan memiliki presisi yang rendah dalam mendeteksi kasus stroke.\n",
    "\n",
    "* Overfitting: Decision Tree dapat rentan terhadap overfitting, terutama jika tidak ada pembatasan atau prunning yang diterapkan. Overfitting dapat mengakibatkan model memiliki kinerja yang baik pada data pelatihan tetapi tidak dapat umumkan pada data pengujian.\n",
    "\n",
    "* Kemampuan yang Terbatas dalam Menangani Hubungan yang Kompleks: Decision Tree mungkin tidak mampu menangani hubungan yang kompleks antara fitur-fitur dalam data. Model ini cenderung bekerja lebih baik untuk masalah yang memiliki hubungan yang lebih linier atau teratur.\n",
    "\n",
    "**Pengambilan Kesimpulan:**\n",
    "\n",
    "Dalam konteks domain bisnis prediksi stroke, model Decision Tree memiliki keunggulan dalam interpretasi yang mudah dan kecepatan komputasi. Namun, kelemahan utamanya adalah ketidakseimbangan data, yang dapat mengakibatkan performansi yang kurang baik dalam mendeteksi kasus stroke yang sebenarnya.\n",
    "\n",
    "**Statement untuk perbaikan selanjutnya adalah:**\n",
    "\n",
    "* Penanganan Ketidakseimbangan Data: Untuk meningkatkan model, perlu mempertimbangkan teknik penanganan ketidakseimbangan data seperti oversampling, undersampling, atau menggunakan metrik evaluasi yang lebih tepat untuk kasus ketidakseimbangan.\n",
    "\n",
    "* Optimasi Hyperparameter: Model Decision Tree dapat dioptimalkan lebih lanjut dengan mencari hyperparameter yang lebih baik, termasuk kedalaman pohon dan kriteria pemisahan.\n",
    "\n",
    "* Pertimbangkan Model Lain: Mungkin ada model lain yang lebih cocok untuk dataset ini, seperti Random Forest atau Gradient Boosting, yang dapat mengatasi beberapa kelemahan Decision Tree.\n",
    "\n",
    "* Feature Engineering: Pertimbangkan untuk menggali lebih dalam fitur-fitur yang relevan dengan prediksi stroke dan melakukan feature engineering untuk meningkatkan kualitas input model.\n",
    "\n",
    "* Evaluasi Lebih Lanjut: Selain metrik evaluasi yang telah digunakan, pertimbangkan untuk menggunakan metrik lain seperti Area di Bawah Kurva ROC (AUC-ROC) atau Area di Bawah Kurva Presisi-Recall (AUC-PR) untuk mendapatkan pemahaman yang lebih lengkap tentang kinerja model.\n",
    "\n",
    "* Konsultasi dengan Profesional Kesehatan: Dalam pengembangan model untuk prediksi stroke, penting untuk melibatkan profesional kesehatan atau ahli medis untuk memvalidasi hasil model dan memahami dampak klinis dari keputusan yang dihasilkan.\n",
    "\n",
    "Perbaikan-perbaikan ini dapat membantu meningkatkan kinerja model dalam mendukung keputusan medis terkait prediksi stroke."
   ]
  }
 ],
 "metadata": {
  "kernelspec": {
   "display_name": "Python 3",
   "language": "python",
   "name": "python3"
  },
  "language_info": {
   "codemirror_mode": {
    "name": "ipython",
    "version": 3
   },
   "file_extension": ".py",
   "mimetype": "text/x-python",
   "name": "python",
   "nbconvert_exporter": "python",
   "pygments_lexer": "ipython3",
   "version": "3.9.17"
  },
  "orig_nbformat": 4
 },
 "nbformat": 4,
 "nbformat_minor": 2
}
